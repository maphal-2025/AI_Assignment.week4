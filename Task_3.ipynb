{
 "cells": [
  {
   "cell_type": "code",
   "execution_count": 2,
   "id": "c419a147-4e2f-4a85-935b-71760cdbb7bf",
   "metadata": {},
   "outputs": [],
   "source": [
    "import pandas as pd\n",
    "\n",
    "# Load the dataset\n",
    "df = pd.read_csv('Breast_Cancer.csv')"
   ]
  },
  {
   "cell_type": "code",
   "execution_count": 3,
   "id": "eec86fae-0095-4e1b-8c19-6932be1a710c",
   "metadata": {},
   "outputs": [
    {
     "name": "stdout",
     "output_type": "stream",
     "text": [
      "Breast_Cancer.csv: (4024, 16)\n",
      "<class 'pandas.core.frame.DataFrame'>\n",
      "RangeIndex: 4024 entries, 0 to 4023\n",
      "Data columns (total 16 columns):\n",
      " #   Column                  Non-Null Count  Dtype \n",
      "---  ------                  --------------  ----- \n",
      " 0   Age                     4024 non-null   int64 \n",
      " 1   Race                    4024 non-null   object\n",
      " 2   Marital Status          4024 non-null   object\n",
      " 3   T Stage                 4024 non-null   object\n",
      " 4   N Stage                 4024 non-null   object\n",
      " 5   6th Stage               4024 non-null   object\n",
      " 6   differentiate           4024 non-null   object\n",
      " 7   Grade                   4024 non-null   object\n",
      " 8   A Stage                 4024 non-null   object\n",
      " 9   Tumor Size              4024 non-null   int64 \n",
      " 10  Estrogen Status         4024 non-null   object\n",
      " 11  Progesterone Status     4024 non-null   object\n",
      " 12  Regional Node Examined  4024 non-null   int64 \n",
      " 13  Reginol Node Positive   4024 non-null   int64 \n",
      " 14  Survival Months         4024 non-null   int64 \n",
      " 15  Status                  4024 non-null   object\n",
      "dtypes: int64(5), object(11)\n",
      "memory usage: 503.1+ KB\n",
      "None\n"
     ]
    }
   ],
   "source": [
    "# Show basic info\n",
    "print(\"Breast_Cancer.csv:\", df.shape)\n",
    "print(df.info())"
   ]
  },
  {
   "cell_type": "code",
   "execution_count": 4,
   "id": "229b29e2-cf50-4722-a73a-f0a4fe85a8e5",
   "metadata": {},
   "outputs": [],
   "source": [
    "# Step 1: Drop duplicate rows\n",
    "df = df.drop_duplicates()\n"
   ]
  },
  {
   "cell_type": "code",
   "execution_count": 5,
   "id": "c2297613-bbae-45ea-b384-e38b19a1f85b",
   "metadata": {},
   "outputs": [],
   "source": [
    "# Step 2: Handle missing values\n",
    "# Option 1: Drop rows with missing values\n",
    "df = df.dropna()"
   ]
  },
  {
   "cell_type": "code",
   "execution_count": 6,
   "id": "27fdadcd-2d79-4223-bb7f-71fd3e8900d8",
   "metadata": {},
   "outputs": [],
   "source": [
    "# Step 3: Convert categorical columns to lowercase and strip whitespaces\n",
    "for col in df.select_dtypes(include='object').columns:\n",
    "    df[col] = df[col].str.lower().str.strip()"
   ]
  },
  {
   "cell_type": "code",
   "execution_count": 7,
   "id": "b353f48f-f96a-46be-9915-7d876e2fb618",
   "metadata": {},
   "outputs": [
    {
     "name": "stdout",
     "output_type": "stream",
     "text": [
      "Cleaning complete. Cleaned dataset shape: (4023, 16)\n"
     ]
    }
   ],
   "source": [
    "# Save cleaned dataset\n",
    "df.to_csv('Breast_Cancer_Cleaned.csv', index=False)\n",
    "\n",
    "print(\"Cleaning complete. Cleaned dataset shape:\", df.shape)\n"
   ]
  },
  {
   "cell_type": "code",
   "execution_count": 9,
   "id": "0c5942e2-e298-4bb0-88ff-249343540f63",
   "metadata": {},
   "outputs": [
    {
     "name": "stdout",
     "output_type": "stream",
     "text": [
      "Index(['Age', 'Race', 'Marital Status', 'T Stage ', 'N Stage', '6th Stage',\n",
      "       'differentiate', 'Grade', 'A Stage', 'Tumor Size', 'Estrogen Status',\n",
      "       'Progesterone Status', 'Regional Node Examined',\n",
      "       'Reginol Node Positive', 'Survival Months', 'Status'],\n",
      "      dtype='object')\n",
      "   Age   Race Marital Status T Stage  N Stage 6th Stage  \\\n",
      "0   68  white        married       t1      n1       iia   \n",
      "1   50  white        married       t2      n2      iiia   \n",
      "2   58  white       divorced       t3      n3      iiic   \n",
      "3   58  white        married       t1      n1       iia   \n",
      "4   47  white        married       t2      n1       iib   \n",
      "\n",
      "               differentiate Grade   A Stage  Tumor Size Estrogen Status  \\\n",
      "0      poorly differentiated     3  regional           4        positive   \n",
      "1  moderately differentiated     2  regional          35        positive   \n",
      "2  moderately differentiated     2  regional          63        positive   \n",
      "3      poorly differentiated     3  regional          18        positive   \n",
      "4      poorly differentiated     3  regional          41        positive   \n",
      "\n",
      "  Progesterone Status  Regional Node Examined  Reginol Node Positive  \\\n",
      "0            positive                      24                      1   \n",
      "1            positive                      14                      5   \n",
      "2            positive                      14                      7   \n",
      "3            positive                       2                      1   \n",
      "4            positive                       3                      1   \n",
      "\n",
      "   Survival Months Status  \n",
      "0               60  alive  \n",
      "1               62  alive  \n",
      "2               75  alive  \n",
      "3               84  alive  \n",
      "4               50  alive  \n"
     ]
    }
   ],
   "source": [
    "# Step Identifying the Label Column\n",
    "print(df.columns)\n",
    "print(df.head())"
   ]
  },
  {
   "cell_type": "code",
   "execution_count": 10,
   "id": "13445614-c6e1-4f10-b71a-08b6fbdb479e",
   "metadata": {},
   "outputs": [],
   "source": [
    "# Convert labels to binary format (M = 1, B = 0)\n",
    "df['Age'] = df['A Stage'].map({'M': 1, 'B': 0})"
   ]
  },
  {
   "cell_type": "code",
   "execution_count": 11,
   "id": "0ecd18bb-06bd-4286-9f7e-3f093e86bc61",
   "metadata": {},
   "outputs": [],
   "source": [
    "# Separate Features and Labels\n",
    "\n",
    "X = df.drop('Race', axis=1)\n",
    "y = df['Age']\n"
   ]
  },
  {
   "cell_type": "code",
   "execution_count": 12,
   "id": "0dfe8a95-14a4-47bb-8df8-38131c9ed72d",
   "metadata": {},
   "outputs": [],
   "source": [
    "# Separate features and labels\n",
    "X = df.drop('Status', axis=1)  \n",
    "y = df['Age']"
   ]
  },
  {
   "cell_type": "code",
   "execution_count": null,
   "id": "9e090889-6e77-4903-87a9-634d224f2e24",
   "metadata": {},
   "outputs": [],
   "source": []
  }
 ],
 "metadata": {
  "kernelspec": {
   "display_name": "anaconda-2024.02-py310",
   "language": "python",
   "name": "conda-env-anaconda-2024.02-py310-py"
  },
  "language_info": {
   "codemirror_mode": {
    "name": "ipython",
    "version": 3
   },
   "file_extension": ".py",
   "mimetype": "text/x-python",
   "name": "python",
   "nbconvert_exporter": "python",
   "pygments_lexer": "ipython3",
   "version": "3.10.14"
  }
 },
 "nbformat": 4,
 "nbformat_minor": 5
}
